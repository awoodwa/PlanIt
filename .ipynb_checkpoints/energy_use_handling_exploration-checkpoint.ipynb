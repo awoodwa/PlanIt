{
 "cells": [
  {
   "cell_type": "code",
   "execution_count": 1,
   "metadata": {},
   "outputs": [],
   "source": [
    "import energy_use_handling"
   ]
  },
  {
   "cell_type": "markdown",
   "metadata": {},
   "source": [
    "This module provides estimates of total and residential energy usage in a given state. \n",
    "\n",
    "The data directory we use was provided by eia.gov. Within it, there are MSN codes that refer to different state averaged data they collected. TETPB refers to the total energy per capita in a given state. This total energy value included commercial, industrial, and transportation energy use in the state. Because of that, TETPB was used to estimate a state's energy use per capita in the `energy_use_handling.get_tot_energy_per_cap(state)` function."
   ]
  },
  {
   "cell_type": "code",
   "execution_count": 2,
   "metadata": {},
   "outputs": [
    {
     "data": {
      "text/plain": [
       "72945.38932300001"
      ]
     },
     "execution_count": 2,
     "metadata": {},
     "output_type": "execute_result"
    }
   ],
   "source": [
    "oregon_total = energy_use_handling.get_tot_energy_per_cap('OR')\n",
    "oregon_total"
   ]
  },
  {
   "cell_type": "markdown",
   "metadata": {},
   "source": [
    "TERPB only took into account residential energy usage. For both the above function and `energy_use_handling.get_res_energy_per_cap(state)`, the function checked the directory for the row that contained the correct state code in question, the correct MSN code, and the year 2017 (the most recent data collected by the eia.gov researchers). It then returned the energy use data in millions Btu and we converted it to kWh to interface with our other calculations."
   ]
  },
  {
   "cell_type": "code",
   "execution_count": 3,
   "metadata": {},
   "outputs": [],
   "source": [
    "oregon_res = energy_use_handling.get_res_energy_per_cap('OR')"
   ]
  },
  {
   "cell_type": "code",
   "execution_count": 4,
   "metadata": {},
   "outputs": [
    {
     "data": {
      "text/plain": [
       "18668.627159000003"
      ]
     },
     "execution_count": 4,
     "metadata": {},
     "output_type": "execute_result"
    }
   ],
   "source": [
    "oregon_res"
   ]
  },
  {
   "cell_type": "markdown",
   "metadata": {},
   "source": [
    "These numbers are entirely estimates. If the user (in residential mode) chooses to input a monthly electricity bill kWh value, we will use that instead of the estimate."
   ]
  },
  {
   "cell_type": "code",
   "execution_count": null,
   "metadata": {},
   "outputs": [],
   "source": []
  }
 ],
 "metadata": {
  "kernelspec": {
   "display_name": "Python 3",
   "language": "python",
   "name": "python3"
  },
  "language_info": {
   "codemirror_mode": {
    "name": "ipython",
    "version": 3
   },
   "file_extension": ".py",
   "mimetype": "text/x-python",
   "name": "python",
   "nbconvert_exporter": "python",
   "pygments_lexer": "ipython3",
   "version": "3.7.6"
  },
  "varInspector": {
   "cols": {
    "lenName": 16,
    "lenType": 16,
    "lenVar": 40
   },
   "kernels_config": {
    "python": {
     "delete_cmd_postfix": "",
     "delete_cmd_prefix": "del ",
     "library": "var_list.py",
     "varRefreshCmd": "print(var_dic_list())"
    },
    "r": {
     "delete_cmd_postfix": ") ",
     "delete_cmd_prefix": "rm(",
     "library": "var_list.r",
     "varRefreshCmd": "cat(var_dic_list()) "
    }
   },
   "types_to_exclude": [
    "module",
    "function",
    "builtin_function_or_method",
    "instance",
    "_Feature"
   ],
   "window_display": false
  }
 },
 "nbformat": 4,
 "nbformat_minor": 2
}
