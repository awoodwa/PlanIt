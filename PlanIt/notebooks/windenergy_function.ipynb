{
 "cells": [
  {
   "cell_type": "markdown",
   "metadata": {},
   "source": [
    "## Exploring the wind energy functions\n",
    "Welcome to a notebook that will help you gain a better understanding of the wind energy functions written for PlanIt! Let's get started."
   ]
  },
  {
   "cell_type": "code",
   "execution_count": 2,
   "metadata": {},
   "outputs": [],
   "source": [
    "import dateutil\n",
    "\n",
    "import h5pyd\n",
    "import matplotlib.pyplot as plt\n",
    "import numpy as np\n",
    "import pandas as pd\n",
    "\n",
    "import wind_energy\n",
    "import location_handling"
   ]
  },
  {
   "cell_type": "markdown",
   "metadata": {},
   "source": [
    "-----------\n",
    "This notebook explores the wind_energy.py module for PlanIt. First, let's load our dataset from the API."
   ]
  },
  {
   "cell_type": "code",
   "execution_count": 3,
   "metadata": {},
   "outputs": [],
   "source": [
    "f = h5pyd.File(\"/nrel/wtk-us.h5\", 'r')"
   ]
  },
  {
   "cell_type": "markdown",
   "metadata": {},
   "source": [
    "Lets use ``location_handling.get_loc`` to get the latitude and logitude of New York City. The output is a tuple of (lat, lon)."
   ]
  },
  {
   "cell_type": "code",
   "execution_count": 4,
   "metadata": {},
   "outputs": [
    {
     "data": {
      "text/plain": [
       "(40.6943, -73.9249)"
      ]
     },
     "execution_count": 4,
     "metadata": {},
     "output_type": "execute_result"
    }
   ],
   "source": [
    "NYC = location_handling.get_loc('New York', 'NY')\n",
    "NYC"
   ]
  },
  {
   "cell_type": "markdown",
   "metadata": {},
   "source": [
    "``location_handling.wtk_locator`` takes the latitutde and longitude of New York and finds the nearest latitude and longitude weather station within the NREL database. The index of this station in the dataset is outputted."
   ]
  },
  {
   "cell_type": "code",
   "execution_count": 5,
   "metadata": {},
   "outputs": [
    {
     "data": {
      "text/plain": [
       "(1044, 2378)"
      ]
     },
     "execution_count": 5,
     "metadata": {},
     "output_type": "execute_result"
    }
   ],
   "source": [
    "NYC_idx = location_handling.wtk_locator(f, NYC)\n",
    "NYC_idx"
   ]
  },
  {
   "cell_type": "markdown",
   "metadata": {},
   "source": [
    "To access the wind data at 100 meters from this data station for the entire time period of the dataset (2007-2013), we use ``wind_energy.create_tseries``. The output is a list of numpy arrays. Each array contains a wind speed at every hour in a one year time slice. There are 7 time slices total."
   ]
  },
  {
   "cell_type": "code",
   "execution_count": 6,
   "metadata": {
    "scrolled": true
   },
   "outputs": [
    {
     "data": {
      "text/plain": [
       "[array([4.3153152, 5.157631 , 6.1098022, ..., 7.992798 , 5.8900757,\n",
       "        6.3142776], dtype=float32),\n",
       " array([ 5.996887 ,  3.8911133,  3.4302826, ..., 10.739464 , 10.803551 ,\n",
       "        15.704826 ], dtype=float32),\n",
       " array([16.165657 , 15.622421 , 15.451523 , ...,  1.4770966,  1.0803528,\n",
       "         1.1322403], dtype=float32),\n",
       " array([1.4740448, 1.7151413, 2.4658966, ..., 4.333626 , 6.6316757,\n",
       "        7.263405 ], dtype=float32),\n",
       " array([7.434311 , 7.821892 , 8.444473 , ..., 5.2888565, 7.721184 ,\n",
       "        8.697777 ], dtype=float32),\n",
       " array([ 8.902252, 10.873749,  9.421066, ...,  8.798485, 10.205391,\n",
       "        10.269478], dtype=float32),\n",
       " array([10.41597 ,  9.085358,  9.051788, ...,  6.579788, 12.097534,\n",
       "         9.509567], dtype=float32)]"
      ]
     },
     "execution_count": 6,
     "metadata": {},
     "output_type": "execute_result"
    }
   ],
   "source": [
    "tseries_list = wind_energy.create_tseries(f, NYC_idx)\n",
    "tseries_list"
   ]
  },
  {
   "cell_type": "markdown",
   "metadata": {},
   "source": [
    "We will only be using one of the years (2008) of wind data as an example."
   ]
  },
  {
   "cell_type": "code",
   "execution_count": 7,
   "metadata": {},
   "outputs": [
    {
     "data": {
      "text/plain": [
       "array([ 5.996887 ,  3.8911133,  3.4302826, ..., 10.739464 , 10.803551 ,\n",
       "       15.704826 ], dtype=float32)"
      ]
     },
     "execution_count": 7,
     "metadata": {},
     "output_type": "execute_result"
    }
   ],
   "source": [
    "NYC08_tseries = wind_energy.create_tseries(f, NYC_idx)[1]\n",
    "NYC08_tseries"
   ]
  },
  {
   "cell_type": "markdown",
   "metadata": {},
   "source": [
    "Plotting the wind speed at 100 meters will help us gain a better understanding of what the data looks like. Wind data can most often be fit with a Weibull distribution. I have included references at the bottom of this notebook if you would like more information about fitting wind data."
   ]
  },
  {
   "cell_type": "code",
   "execution_count": 8,
   "metadata": {},
   "outputs": [
    {
     "data": {
      "image/png": "[encoded data removed]",
      "text/plain": [
       "<Figure size 432x288 with 1 Axes>"
      ]
     },
     "metadata": {
      "needs_background": "light"
     },
     "output_type": "display_data"
    }
   ],
   "source": [
    "plt.hist(NYC08_tseries, bins = 100, density = True,\n",
    "        color = 'gold', edgecolor='purple')\n",
    "plt.ylabel('Relative Occurances', fontsize = 12)\n",
    "plt.xlabel('Wind Speed (m/s)', fontsize = 12)\n",
    "plt.title('NYC Windspeeds at 100m (2008)', fontsize=14)\n",
    "plt.show()"
   ]
  },
  {
   "cell_type": "markdown",
   "metadata": {},
   "source": [
    "------"
   ]
  },
  {
   "cell_type": "markdown",
   "metadata": {},
   "source": [
    "#### ``power_eff``"
   ]
  },
  {
   "cell_type": "markdown",
   "metadata": {},
   "source": [
    "The power efficiency of a turbine changes for different wind speeds. The function ``wind_energy.power_eff`` intakes a wind speed and outputs a power efficiency. The power efficiency vs wind speed curve is based on a curve from DOI: 10.1016/j.esd.2016.11.001."
   ]
  },
  {
   "cell_type": "code",
   "execution_count": 9,
   "metadata": {},
   "outputs": [
    {
     "name": "stdout",
     "output_type": "stream",
     "text": [
      "wind speed (m/s) 5.996887\n"
     ]
    }
   ],
   "source": [
    "# taking a random wind speed data point from the 2008 timeseries data\n",
    "wind_speed = NYC08_tseries[100]\n",
    "print('wind speed (m/s)', wind_speed)"
   ]
  },
  {
   "cell_type": "markdown",
   "metadata": {},
   "source": [
    "This example shows the power efficiency of a wind turbine at a wind speed of ~ 6 m/s."
   ]
  },
  {
   "cell_type": "code",
   "execution_count": 10,
   "metadata": {
    "scrolled": true
   },
   "outputs": [
    {
     "data": {
      "text/plain": [
       "0.40997799123981055"
      ]
     },
     "execution_count": 10,
     "metadata": {},
     "output_type": "execute_result"
    }
   ],
   "source": [
    "Cp = wind_energy.power_eff(wind_speed)\n",
    "Cp"
   ]
  },
  {
   "cell_type": "markdown",
   "metadata": {},
   "source": [
    "#### ``weibull_coeff``"
   ]
  },
  {
   "cell_type": "markdown",
   "metadata": {},
   "source": [
    "Weibull distributions can be described by a shape (k) and scale (c) parameter. k describes the Weibull slope in a probability plot and c describes the height and width of the Weibull PDF. </p>\n",
    "Here, we are computing the Weibull coefficients for the NYC 2008 wind data with the ``wind_energy.weibull_coeff`` function."
   ]
  },
  {
   "cell_type": "code",
   "execution_count": 11,
   "metadata": {
    "scrolled": true
   },
   "outputs": [
    {
     "name": "stdout",
     "output_type": "stream",
     "text": [
      "k: 2.095213510638354\n",
      "c: 6.873579224294875\n"
     ]
    }
   ],
   "source": [
    "coeff = wind_energy.weibull_coeff(NYC08_tseries)\n",
    "print('k:', coeff[0])\n",
    "print('c:', coeff[1])"
   ]
  },
  {
   "cell_type": "markdown",
   "metadata": {},
   "source": [
    "#### ``weibull_pdf``"
   ]
  },
  {
   "cell_type": "markdown",
   "metadata": {},
   "source": [
    "The Weibull coefficients are then used to calculate the wind speed dependent Weibull probability function ``wind_energy.weibull_pdf``, given by:\n",
    "</p>\n",
    "$p(\\nu)=\\frac{k}{c}(\\frac{\\nu}{c})^{k-1}e^{-(\\frac{\\nu}{c})^{k}}$ </p>\n",
    "\n",
    "-----\n",
    "In this example, we are looking at the PDF output (specifically for the NYC 2008 wind speed data) for a windspeed of 4 m/s."
   ]
  },
  {
   "cell_type": "code",
   "execution_count": 12,
   "metadata": {},
   "outputs": [
    {
     "data": {
      "text/plain": [
       "0.12213775860325465"
      ]
     },
     "execution_count": 12,
     "metadata": {},
     "output_type": "execute_result"
    }
   ],
   "source": [
    "pdf = wind_energy.weibull_pdf(4.0, coeff[0], coeff[1])\n",
    "pdf"
   ]
  },
  {
   "cell_type": "markdown",
   "metadata": {},
   "source": [
    "To make sure the sum of the PDFs for all windspeeds does not exceed 1, we compute the total probability of every windspeed."
   ]
  },
  {
   "cell_type": "code",
   "execution_count": 13,
   "metadata": {},
   "outputs": [
    {
     "name": "stdout",
     "output_type": "stream",
     "text": [
      "0.9978093474549528\n"
     ]
    }
   ],
   "source": [
    "tot_pdf=[]\n",
    "for i in np.arange(NYC08_tseries.min(), NYC08_tseries.max(), 1):\n",
    "    val = wind_energy.weibull_pdf(i, coeff[0], coeff[1])\n",
    "    tot_pdf.append(val)\n",
    "print(sum(tot_pdf))"
   ]
  },
  {
   "cell_type": "markdown",
   "metadata": {},
   "source": [
    "#### ``summation``"
   ]
  },
  {
   "cell_type": "markdown",
   "metadata": {},
   "source": [
    "Next, we compute the average power over the entire range of windspeeds with the function ``wind_energy.summation``: </p>\n",
    "$\\sum_{0}^n C_p(\\lambda) p(\\nu) \\nu^3 $\n",
    "\n",
    "----\n",
    "This function does not compute the power for windspeeds that are below 3.5 m/s or above 25 m/s. It also does not compute power above the nameplate capacity of the wind turbine.\n",
    "\n",
    "-----\n",
    "The output of the function is the sum of the powers at each windspeed in the range."
   ]
  },
  {
   "cell_type": "code",
   "execution_count": 14,
   "metadata": {},
   "outputs": [
    {
     "data": {
      "text/plain": [
       "132.1029434461051"
      ]
     },
     "execution_count": 14,
     "metadata": {},
     "output_type": "execute_result"
    }
   ],
   "source": [
    "summation = wind_energy.summation(NYC08_tseries)\n",
    "summation"
   ]
  },
  {
   "cell_type": "markdown",
   "metadata": {},
   "source": [
    "#### ``wind_energy_output``"
   ]
  },
  {
   "cell_type": "markdown",
   "metadata": {},
   "source": [
    "Lasty, AEO (Annual Energy Output) **per wind turbine**, is calculated by ``wind_energy.wind_energy_output``, which uses the AEO equation: $8760 * 0.5 \\rho A *\\sum_{0}^nC_p(\\lambda) p(\\nu) \\nu^3$. The output is in Megawatt Hours (MWh).\n",
    "\n",
    "-----\n",
    "This example calculates the AEO for NYC in the year 2008"
   ]
  },
  {
   "cell_type": "code",
   "execution_count": 15,
   "metadata": {},
   "outputs": [
    {
     "data": {
      "text/plain": [
       "7439.234403990724"
      ]
     },
     "execution_count": 15,
     "metadata": {},
     "output_type": "execute_result"
    }
   ],
   "source": [
    "NYC08_energyoutput = wind_energy.wind_energy_output(NYC08_tseries)\n",
    "NYC08_energyoutput"
   ]
  },
  {
   "cell_type": "markdown",
   "metadata": {},
   "source": [
    "#### ``aeo_average``"
   ]
  },
  {
   "cell_type": "markdown",
   "metadata": {},
   "source": [
    "This is the wrapping function for the wind energy functions. If we want to know the avearage AEO for all the years available in the WTK dataset **per wind turbine**, we simply need to run ``wind_energy.aeo_average``. The input is simply the wind tool kit dataframe and the NYC index from the dataframe. The output is in MWh."
   ]
  },
  {
   "cell_type": "code",
   "execution_count": 16,
   "metadata": {},
   "outputs": [
    {
     "data": {
      "text/plain": [
       "7724.914938920573"
      ]
     },
     "execution_count": 16,
     "metadata": {},
     "output_type": "execute_result"
    }
   ],
   "source": [
    "NYC_tot_energyoutput = wind_energy.aeo_average(f, NYC_idx)\n",
    "NYC_tot_energyoutput"
   ]
  },
  {
   "cell_type": "markdown",
   "metadata": {},
   "source": [
    "#### ``wind_landuse``"
   ]
  },
  {
   "cell_type": "markdown",
   "metadata": {},
   "source": [
    "For the government branch of the PlanIt app, we enable a user to input how much land available for renewable energy (in $km^2$). Based on this we can calculate the max energy output with ``wind_energy.wind_landuse``.\n",
    "\n",
    "-----\n",
    "In this example, a user has inputted 12 $km^2$. The output is in MWh."
   ]
  },
  {
   "cell_type": "code",
   "execution_count": 17,
   "metadata": {
    "scrolled": true
   },
   "outputs": [
    {
     "data": {
      "text/plain": [
       "231747.4481676172"
      ]
     },
     "execution_count": 17,
     "metadata": {},
     "output_type": "execute_result"
    }
   ],
   "source": [
    "wind_energy.wind_landuse(12, f, NYC_idx)"
   ]
  },
  {
   "cell_type": "markdown",
   "metadata": {},
   "source": [
    "### A closer look at some of the data\n",
    "A more indepth look at the power_eff function and the fit of a Weibull distribution to the data."
   ]
  },
  {
   "cell_type": "markdown",
   "metadata": {},
   "source": [
    "#### Import appropriate modules"
   ]
  },
  {
   "cell_type": "code",
   "execution_count": 18,
   "metadata": {},
   "outputs": [],
   "source": [
    "from scipy.interpolate import CubicSpline\n",
    "from reliability.Distributions import Weibull_Distribution"
   ]
  },
  {
   "cell_type": "markdown",
   "metadata": {},
   "source": [
    "To make a power efficiency vs wind speed curve like the one in DOI: 10.1016/j.esd.2016.11.001, I took points from the curve and used the module ``CubicSpline`` to make a curve that followed those points."
   ]
  },
  {
   "cell_type": "code",
   "execution_count": 19,
   "metadata": {},
   "outputs": [],
   "source": [
    "x = list(np.arange(3, 26.0, 1))\n",
    "y = [0.26, 0.35, 0.4, 0.41, 0.425, 0.445, 0.445, 0.425, 0.38, 0.335, 0.28,\n",
    "         0.23, 0.19, 0.16, 0.13, 0.11, 0.09, 0.075, 0.065, 0.05, 0.04, 0.03,\n",
    "         0.02]"
   ]
  },
  {
   "cell_type": "markdown",
   "metadata": {},
   "source": [
    "The resulting curve looks like this:"
   ]
  },
  {
   "cell_type": "code",
   "execution_count": 20,
   "metadata": {},
   "outputs": [
    {
     "data": {
      "image/png": "[encoded data removed]",
      "text/plain": [
       "<Figure size 504x360 with 1 Axes>"
      ]
     },
     "metadata": {
      "needs_background": "light"
     },
     "output_type": "display_data"
    }
   ],
   "source": [
    "cs = CubicSpline(x, y)\n",
    "xs = np.arange(3, 25.0, 0.1)\n",
    "\n",
    "plt.figure(figsize=(7,5))\n",
    "plt.plot(x,y, 'o', mfc='gold', mec = 'purple', ms = 7)\n",
    "plt.plot(xs, cs(xs), color = 'purple')\n",
    "plt.xlabel('Wind Speed (m/s)', fontsize=12)\n",
    "plt.ylabel('Power Coefficient, Cp', fontsize=12)\n",
    "plt.title('Cp vs Wind Speed', fontsize=14)\n",
    "plt.show()"
   ]
  },
  {
   "cell_type": "markdown",
   "metadata": {},
   "source": [
    "A plot of the actual NYC 2008 wind speed data with a Weibull distribution, using parameters k and c from the fit of the data."
   ]
  },
  {
   "cell_type": "code",
   "execution_count": 21,
   "metadata": {
    "scrolled": false
   },
   "outputs": [
    {
     "data": {
      "image/png": "[encoded data removed]",
      "text/plain": [
       "<Figure size 432x288 with 1 Axes>"
      ]
     },
     "metadata": {
      "needs_background": "light"
     },
     "output_type": "display_data"
    }
   ],
   "source": [
    "xvals = np.linspace(0, 22, 300)\n",
    "\n",
    "plt.hist(NYC08_tseries, bins = 100, density = True,\n",
    "         label = 'NYC 08 windspeeds', color = 'cornflowerblue',\n",
    "         edgecolor='darkslate')\n",
    "Weibull_Distribution(alpha=coeff[1], beta=coeff[0]). \\\n",
    "                    PDF(xvals = xvals, label = 'Weibull Distribution', \n",
    "                        color = 'black', linestyle='--')\n",
    "plt.title('Weibull Distribution Fit', fontsize = 14)\n",
    "plt.ylabel('Probability Density', fontsize = 12)\n",
    "plt.xlabel('Wind Speed (m/s)', fontsize = 12)\n",
    "plt.legend()\n",
    "plt.show()"
   ]
  },
  {
   "cell_type": "markdown",
   "metadata": {},
   "source": [
    "----\n",
    "----"
   ]
  },
  {
   "cell_type": "markdown",
   "metadata": {},
   "source": [
    "### Extra information/background reading"
   ]
  },
  {
   "cell_type": "markdown",
   "metadata": {},
   "source": [
    "Information on avg USA wind turbines (2018): https://www.energy.gov/sites/prod/files/2019/08/f65/2018%20Wind%20Technologies%20Market%20Report%20FINAL.pdf\n",
    "\n",
    "#### Values used to calculate wind turbine power:\n",
    "- nameplate capacity of newly installed wind turbines in the US in is 2.43 MW.\n",
    "- average rotor diameter is 115.6 meters, average hub height is 88.1 meters.\n",
    "--------\n",
    "#### Wind turbines require:\n",
    "- a minimum wind speed (3.5 m/s) to begin turning and generate electricity\n",
    "- strong winds (~14 m/s) to generate at full capacity\n",
    "- winds needs to be less than 25 m/s; beyond that speed, the turbines must be stopped to avoid damage\n",
    "------\n",
    "#### General resources:\n",
    "- http://css.umich.edu/factsheets/wind-energy-factsheet\n",
    "- https://www.raeng.org.uk/publications/other/23-wind-turbine\n",
    "-----\n",
    "#### Documentation:\n",
    "- realiability module: https://reliability.readthedocs.io/en/latest/index.html\n",
    "- basis for equation calculation : https://www.sciencedirect.com/science/article/pii/S0973082616308699\n",
    "- kWh information/average values: \n",
    "    - https://www.windspire.ch/blog/2017/6/22/aep-part-1-capacity-and-more\n",
    "    - https://www.windspire.ch/blog/2017/5/17/the-difference-between-kw-and-kwh-and-why-this-is-crucial-to-any-discussion-about-wind-energy\n",
    "-----\n",
    "#### Variables and units: \n",
    "- rho ($kg/m^{3}$): air density\n",
    "- A ($m^2$): area of the wind turbine blade\n",
    "- $\\nu$ ($\\frac{m}{s}$): wind speed\n",
    "- Cp (unitless): capacity factor (efficiency)\n",
    "- p($\\nu$) (unitless): Weibull distribution, include parameters k and c\n",
    "-----\n",
    "#### Equations:\n",
    "- power $P_{avail} = 0.5 \\rho A \\nu^{3} C_{p}$\n",
    "- Weibull PDF $p(\\nu)=\\frac{k}{c}(\\frac{\\nu}{c})^{k-1}e^{-(\\frac{\\nu}{c})^{k}}$\n",
    "- Average power $\\sum_{0}^n C_p(\\lambda) p(\\nu) \\nu^3 $\n",
    "- AEO (Annual Energy Output) = $8760 * 0.5 \\rho A *\\sum_{0}^nC_p(\\lambda) p(\\nu) \\nu^3 $"
   ]
  },
  {
   "cell_type": "code",
   "execution_count": null,
   "metadata": {},
   "outputs": [],
   "source": []
  }
 ],
 "metadata": {
  "kernelspec": {
   "display_name": "Python 3",
   "language": "python",
   "name": "python3"
  },
  "language_info": {
   "codemirror_mode": {
    "name": "ipython",
    "version": 3
   },
   "file_extension": ".py",
   "mimetype": "text/x-python",
   "name": "python",
   "nbconvert_exporter": "python",
   "pygments_lexer": "ipython3",
   "version": "3.7.5"
  }
 },
 "nbformat": 4,
 "nbformat_minor": 4
}
