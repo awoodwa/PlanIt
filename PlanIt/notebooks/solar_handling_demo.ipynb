{
 "cells": [
  {
   "cell_type": "markdown",
   "metadata": {},
   "source": [
    "# Solar Handling Functions"
   ]
  },
  {
   "cell_type": "markdown",
   "metadata": {},
   "source": [
    "Thank you for your interest in learning more about the Plan.It functionalities! This notebook will demonstrate how the functions used to handle and calculate information regarding solar energy are used. "
   ]
  },
  {
   "cell_type": "markdown",
   "metadata": {},
   "source": [
    "To run this notebook, the modules need to be imported."
   ]
  },
  {
   "cell_type": "code",
   "execution_count": 45,
   "metadata": {},
   "outputs": [],
   "source": [
    "import dateutil\n",
    "\n",
    "import h5pyd\n",
    "import matplotlib.pyplot as plt\n",
    "import numpy as np\n",
    "import pandas as pd\n",
    "\n",
    "import location_handling\n",
    "import solar_handling"
   ]
  },
  {
   "cell_type": "code",
   "execution_count": 2,
   "metadata": {},
   "outputs": [],
   "source": [
    "# Wind Toolkits dataset is loaded from NREL using API key\n",
    "f = h5pyd.File(\"/nrel/wtk-us.h5\", 'r')  "
   ]
  },
  {
   "cell_type": "markdown",
   "metadata": {},
   "source": [
    "***"
   ]
  },
  {
   "cell_type": "markdown",
   "metadata": {},
   "source": [
    "### New York City Demonstrations"
   ]
  },
  {
   "cell_type": "markdown",
   "metadata": {},
   "source": [
    "First, we use the ``location_handling.get_loc`` function that allows us to extract out latitude and longitude values as a tuple at a specific \"City\", \"State_id\" combination. In this demonstration, we will use New York City."
   ]
  },
  {
   "cell_type": "code",
   "execution_count": 12,
   "metadata": {},
   "outputs": [
    {
     "name": "stdout",
     "output_type": "stream",
     "text": [
      "The latitude of New York City is 40.6943\n",
      "The longitude of New York City is -73.9249\n"
     ]
    }
   ],
   "source": [
    "NYC = location_handling.get_loc(\"New York\", \"NY\")\n",
    "print(\"The latitude of New York City is %s\" % NYC[0])\n",
    "print(\"The longitude of New York City is %s\" % NYC[1])"
   ]
  },
  {
   "cell_type": "markdown",
   "metadata": {},
   "source": [
    "Next, we use the ``location_handling.wtk_locator`` function, which finds the nearest latitude and longitude weather/data station and outputs the latitude and longitude indices in a tuple that correlate with that location in the dataset."
   ]
  },
  {
   "cell_type": "code",
   "execution_count": 14,
   "metadata": {},
   "outputs": [
    {
     "name": "stdout",
     "output_type": "stream",
     "text": [
      "The location index of New York City is (1044, 2378)\n"
     ]
    }
   ],
   "source": [
    "NYC_idx = location_handling.wtk_locator(f, NYC)\n",
    "print(\"The location index of New York City is %s\" % str(NYC_idx))"
   ]
  },
  {
   "cell_type": "markdown",
   "metadata": {},
   "source": [
    "***"
   ]
  },
  {
   "cell_type": "markdown",
   "metadata": {},
   "source": [
    "The entire solar_handling function capabilities are wrapped up in the ``solar_handling.annual_solar_mean`` functions which takes the annual amount of energy generated from solar resources from the years 2007-2013 and calculates the mean. So, this functions calls ``solar_handling.annual_solar_energy``, which then in turn calls ``solar_handling.create_ghi_tseries`` function."
   ]
  },
  {
   "cell_type": "markdown",
   "metadata": {},
   "source": [
    "The first function to be used, ``tseries_list`` breaks down the date and time of the dataset into each individual year, with a data point for each individual hour. It then extracts the global horizontal incidence (GHI) for each of those time points and contructs an array that contains the GHI information for each year."
   ]
  },
  {
   "cell_type": "code",
   "execution_count": 36,
   "metadata": {},
   "outputs": [
    {
     "data": {
      "text/plain": [
       "[array([ 0.     ,  0.     ,  0.     , ..., 45.02246,  0.     ,  0.     ],\n",
       "       dtype=float32),\n",
       " array([ 0.      ,  0.      ,  0.      , ..., 10.666199,  0.      ,\n",
       "         0.      ], dtype=float32),\n",
       " array([ 0.      ,  0.      ,  0.      , ..., 25.658447,  0.      ,\n",
       "         0.      ], dtype=float32),\n",
       " array([ 0.      ,  0.      ,  0.      , ..., 11.101135,  0.      ,\n",
       "         0.      ], dtype=float32),\n",
       " array([ 0.     ,  0.     ,  0.     , ..., 42.98535,  0.     ,  0.     ],\n",
       "       dtype=float32),\n",
       " array([ 0.      ,  0.      ,  0.      , ..., 17.555786,  0.      ,\n",
       "         0.      ], dtype=float32),\n",
       " array([ 0.      ,  0.      ,  0.      , ..., 45.251343,  0.      ,\n",
       "         0.      ], dtype=float32)]"
      ]
     },
     "execution_count": 36,
     "metadata": {},
     "output_type": "execute_result"
    }
   ],
   "source": [
    "tseries_list = solar_handling.create_ghi_tseries(f, NYC_idx)\n",
    "tseries_list"
   ]
  },
  {
   "cell_type": "code",
   "execution_count": 41,
   "metadata": {},
   "outputs": [
    {
     "data": {
      "text/plain": [
       "array([ 0.     ,  0.     ,  0.     , ..., 45.02246,  0.     ,  0.     ],\n",
       "      dtype=float32)"
      ]
     },
     "execution_count": 41,
     "metadata": {},
     "output_type": "execute_result"
    }
   ],
   "source": [
    "NYC07_tseries = tseries_list[0]\n",
    "NYC07_tseries"
   ]
  },
  {
   "cell_type": "code",
   "execution_count": 31,
   "metadata": {},
   "outputs": [],
   "source": [
    "dt = f['datetime']\n",
    "dt = pd.DataFrame({'datetime':dt[:]}, index = range(0, dt.shape[0]))\n",
    "dt['datetime'] = dt['datetime'].apply(dateutil.parser.parse)\n",
    "\n",
    "twenty07 = dt.loc[(dt.datetime >= '2007-01-01') &\n",
    "                  (dt.datetime < '2008-01-01')]"
   ]
  },
  {
   "cell_type": "code",
   "execution_count": 42,
   "metadata": {},
   "outputs": [
    {
     "data": {
      "text/html": [
       "<div>\n",
       "<style scoped>\n",
       "    .dataframe tbody tr th:only-of-type {\n",
       "        vertical-align: middle;\n",
       "    }\n",
       "\n",
       "    .dataframe tbody tr th {\n",
       "        vertical-align: top;\n",
       "    }\n",
       "\n",
       "    .dataframe thead th {\n",
       "        text-align: right;\n",
       "    }\n",
       "</style>\n",
       "<table border=\"1\" class=\"dataframe\">\n",
       "  <thead>\n",
       "    <tr style=\"text-align: right;\">\n",
       "      <th></th>\n",
       "      <th>GHI ($W/m^2$)</th>\n",
       "    </tr>\n",
       "    <tr>\n",
       "      <th>DateTime</th>\n",
       "      <th></th>\n",
       "    </tr>\n",
       "  </thead>\n",
       "  <tbody>\n",
       "    <tr>\n",
       "      <th>2007-01-01 00:00:00</th>\n",
       "      <td>0.000000</td>\n",
       "    </tr>\n",
       "    <tr>\n",
       "      <th>2007-01-01 01:00:00</th>\n",
       "      <td>0.000000</td>\n",
       "    </tr>\n",
       "    <tr>\n",
       "      <th>2007-01-01 02:00:00</th>\n",
       "      <td>0.000000</td>\n",
       "    </tr>\n",
       "    <tr>\n",
       "      <th>2007-01-01 03:00:00</th>\n",
       "      <td>0.000000</td>\n",
       "    </tr>\n",
       "    <tr>\n",
       "      <th>2007-01-01 04:00:00</th>\n",
       "      <td>0.000000</td>\n",
       "    </tr>\n",
       "    <tr>\n",
       "      <th>...</th>\n",
       "      <td>...</td>\n",
       "    </tr>\n",
       "    <tr>\n",
       "      <th>2007-12-31 19:00:00</th>\n",
       "      <td>336.695465</td>\n",
       "    </tr>\n",
       "    <tr>\n",
       "      <th>2007-12-31 20:00:00</th>\n",
       "      <td>202.223267</td>\n",
       "    </tr>\n",
       "    <tr>\n",
       "      <th>2007-12-31 21:00:00</th>\n",
       "      <td>45.022461</td>\n",
       "    </tr>\n",
       "    <tr>\n",
       "      <th>2007-12-31 22:00:00</th>\n",
       "      <td>0.000000</td>\n",
       "    </tr>\n",
       "    <tr>\n",
       "      <th>2007-12-31 23:00:00</th>\n",
       "      <td>0.000000</td>\n",
       "    </tr>\n",
       "  </tbody>\n",
       "</table>\n",
       "<p>8760 rows × 1 columns</p>\n",
       "</div>"
      ],
      "text/plain": [
       "                     GHI ($W/m^2$)\n",
       "DateTime                          \n",
       "2007-01-01 00:00:00       0.000000\n",
       "2007-01-01 01:00:00       0.000000\n",
       "2007-01-01 02:00:00       0.000000\n",
       "2007-01-01 03:00:00       0.000000\n",
       "2007-01-01 04:00:00       0.000000\n",
       "...                            ...\n",
       "2007-12-31 19:00:00     336.695465\n",
       "2007-12-31 20:00:00     202.223267\n",
       "2007-12-31 21:00:00      45.022461\n",
       "2007-12-31 22:00:00       0.000000\n",
       "2007-12-31 23:00:00       0.000000\n",
       "\n",
       "[8760 rows x 1 columns]"
      ]
     },
     "execution_count": 42,
     "metadata": {},
     "output_type": "execute_result"
    }
   ],
   "source": [
    "GHI_2007 = pd.DataFrame(NYC07_tseries, columns=['GHI ($W/m^2$)'])\n",
    "GHI_2007['DateTime'] = twenty07\n",
    "GHI_2007.set_index('DateTime')"
   ]
  },
  {
   "cell_type": "markdown",
   "metadata": {},
   "source": [
    "Next, ``annual_solar_energy`` takes the data series at each year and applies the parameters of a typical commercial solar panel to determine how much energy it would generate from the solar resources available at each hour. So, it uses a solar panel that has 20% efficiency at converting irradiance into energy, it has an area of 65 in x 39 in, or ~1.635 $m^2$, and it converts the energy into kilowatt hours rather than watt hours. Finally, this function sums together each individual year to determine how much of the solar resources could have been converted to energy by a single solar panel in New York City."
   ]
  },
  {
   "cell_type": "code",
   "execution_count": 8,
   "metadata": {},
   "outputs": [],
   "source": [
    "annual_solar_energy = solar_handling.annual_solar_energy(f, NYC_idx)"
   ]
  },
  {
   "cell_type": "code",
   "execution_count": 62,
   "metadata": {},
   "outputs": [
    {
     "data": {
      "image/png": "[encoded data removed]",
      "text/plain": [
       "<Figure size 432x288 with 1 Axes>"
      ]
     },
     "metadata": {
      "needs_background": "light"
     },
     "output_type": "display_data"
    }
   ],
   "source": [
    "plt.bar(x=np.arange(2007, 2014), height=annual_solar_energy, color = 'orange')\n",
    "plt.ylabel('Energy (kWh)', fontsize=14)\n",
    "plt.title('Energy generated by one solar panel in NYC each year', fontsize=14)\n",
    "plt.rc('ytick', labelsize=14)\n",
    "plt.rc('xtick', labelsize=12)"
   ]
  },
  {
   "cell_type": "markdown",
   "metadata": {},
   "source": [
    "Finally, ``annual_solar_mean`` average the above values to determine how much energy a single solar panel can produce at the specific location annually."
   ]
  },
  {
   "cell_type": "code",
   "execution_count": 65,
   "metadata": {},
   "outputs": [
    {
     "name": "stdout",
     "output_type": "stream",
     "text": [
      "Average energy generated annually by a single solar panel in New York City is 534.54 kWh\n"
     ]
    }
   ],
   "source": [
    "annual_solar_mean = solar_handling.annual_solar_mean(f, NYC_idx)\n",
    "print(\"Average energy generated annually by a single solar panel in New York City is %s kWh\" % str(round(annual_solar_mean, 2)))"
   ]
  },
  {
   "cell_type": "markdown",
   "metadata": {},
   "source": [
    "### Try a different location yourself:"
   ]
  },
  {
   "cell_type": "code",
   "execution_count": 66,
   "metadata": {},
   "outputs": [],
   "source": [
    "# Input a city name and its state_id within the quotation marks.\n",
    "# For example, city = \"Seattle\" and state = \"WA\"\n",
    "city = \"\"\n",
    "state = \"\""
   ]
  },
  {
   "cell_type": "code",
   "execution_count": 67,
   "metadata": {},
   "outputs": [],
   "source": [
    "location = location_handling.get_loc(city, state)\n",
    "loc_idx = location_handling.wtk_locator(f, location)"
   ]
  },
  {
   "cell_type": "code",
   "execution_count": 69,
   "metadata": {},
   "outputs": [
    {
     "name": "stdout",
     "output_type": "stream",
     "text": [
      "Average energy generated annually by a single solar panel in Seattle is 462.66 kWh\n"
     ]
    }
   ],
   "source": [
    "annual_solar_mean = solar_handling.annual_solar_mean(f, loc_idx)\n",
    "print(\"Average energy generated annually by a single solar panel in %s is %s kWh\" % (city, str(round(annual_solar_mean, 2))))"
   ]
  }
 ],
 "metadata": {
  "kernelspec": {
   "display_name": "Python 3",
   "language": "python",
   "name": "python3"
  },
  "language_info": {
   "codemirror_mode": {
    "name": "ipython",
    "version": 3
   },
   "file_extension": ".py",
   "mimetype": "text/x-python",
   "name": "python",
   "nbconvert_exporter": "python",
   "pygments_lexer": "ipython3",
   "version": "3.7.5"
  }
 },
 "nbformat": 4,
 "nbformat_minor": 2
}
