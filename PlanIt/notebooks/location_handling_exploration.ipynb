{
 "cells": [
  {
   "cell_type": "code",
   "execution_count": 1,
   "metadata": {},
   "outputs": [],
   "source": [
    "import location_handling\n",
    "import h5pyd"
   ]
  },
  {
   "cell_type": "markdown",
   "metadata": {},
   "source": [
    "This notebook explores the location_handling.py module for PlanIt. First, let's load our dataset from the API."
   ]
  },
  {
   "cell_type": "code",
   "execution_count": 2,
   "metadata": {},
   "outputs": [],
   "source": [
    "f = h5pyd.File(\"/nrel/wtk-us.h5\", 'r')  "
   ]
  },
  {
   "cell_type": "markdown",
   "metadata": {},
   "source": [
    "`location_handling.get_loc(city, state)` takes a city and state identifier (e.g. OR instead of Oregon) as an input and checks a directory for that particular city's latitude and longitude coordinates."
   ]
  },
  {
   "cell_type": "code",
   "execution_count": 3,
   "metadata": {},
   "outputs": [
    {
     "data": {
      "text/plain": [
       "(44.9232, -123.0245)"
      ]
     },
     "execution_count": 3,
     "metadata": {},
     "output_type": "execute_result"
    }
   ],
   "source": [
    "salem = location_handling.get_loc('Salem', 'OR')\n",
    "salem"
   ]
  },
  {
   "cell_type": "markdown",
   "metadata": {},
   "source": [
    "In order to interface with the API, we need to convert a city's latitude and longitude to its respective nearest neighbor's indices in the API. The API did not necessarily have data for every location we could come up with so our goal with this function was to find the nearest weather station where data was collected to perform our wind and solar energy calculations.\n",
    "\n",
    "At first, we used Scipy's `distance` package to do this. Each latitude and longitude was fed into a two `for` loops that checked for the smallest euclidean distance between points. However, when running this function, it would take anywhere from 4 to 7 minutes to return a tuple of the indices in question.\n",
    "\n",
    "When troubleshooting this wait time, we realized that calling `distance.euclidean` every time for nearly 5 million possible neighbors was unwieldy. We decided to hard code the square (instead of the square root) of the distance between points. This shaved the time down to approximately 3 minutes per calculation.\n",
    "\n",
    "Almost ready to give up, we did some digging into how the API handled this. While they did not use the same latitude and longitude directory we did, they still had a way of calculating the nearest neighbor in their dataset. Turns out they were using a library called `pyproj` which specifically took latitude and longitude coordinates and used the Lamber Conformal Conic function to take into account the curviture of the earth and calculate very efficiently the nearest coordinates. We implemented this into the `location_handling.wtk_locator(f, location)` function and run time went down to a few seconds per calculation. This made a huge difference for our user's experience. \n",
    "\n",
    "The function takes the h5pyd file that the API datasets are stored under and the `location`, a tuple of (latitude, longitude). In the function, we had to reverse this tuple because `pyproj` operates with (longitude, latitude). "
   ]
  },
  {
   "cell_type": "code",
   "execution_count": 4,
   "metadata": {
    "scrolled": true
   },
   "outputs": [
    {
     "data": {
      "text/plain": [
       "(1320, 480)"
      ]
     },
     "execution_count": 4,
     "metadata": {},
     "output_type": "execute_result"
    }
   ],
   "source": [
    "loc = location_handling.wtk_locator(f, salem)\n",
    "loc"
   ]
  },
  {
   "cell_type": "markdown",
   "metadata": {},
   "source": [
    "The final function that dealt with our location directories was `location_handling.get_pop(location)`. This function grabbed the population of a given city by taking the latitude and longitude tuple that was an output from the `get_loc(city, state)` function. It used the same .csv directory as that function so we did not need to worry about interfacing with the API."
   ]
  },
  {
   "cell_type": "code",
   "execution_count": 6,
   "metadata": {},
   "outputs": [
    {
     "data": {
      "text/plain": [
       "259816"
      ]
     },
     "execution_count": 6,
     "metadata": {},
     "output_type": "execute_result"
    }
   ],
   "source": [
    "pop = location_handling.get_pop(salem)\n",
    "pop"
   ]
  },
  {
   "cell_type": "code",
   "execution_count": null,
   "metadata": {},
   "outputs": [],
   "source": []
  }
 ],
 "metadata": {
  "kernelspec": {
   "display_name": "Python 3",
   "language": "python",
   "name": "python3"
  },
  "language_info": {
   "codemirror_mode": {
    "name": "ipython",
    "version": 3
   },
   "file_extension": ".py",
   "mimetype": "text/x-python",
   "name": "python",
   "nbconvert_exporter": "python",
   "pygments_lexer": "ipython3",
   "version": "3.7.6"
  },
  "varInspector": {
   "cols": {
    "lenName": 16,
    "lenType": 16,
    "lenVar": 40
   },
   "kernels_config": {
    "python": {
     "delete_cmd_postfix": "",
     "delete_cmd_prefix": "del ",
     "library": "var_list.py",
     "varRefreshCmd": "print(var_dic_list())"
    },
    "r": {
     "delete_cmd_postfix": ") ",
     "delete_cmd_prefix": "rm(",
     "library": "var_list.r",
     "varRefreshCmd": "cat(var_dic_list()) "
    }
   },
   "types_to_exclude": [
    "module",
    "function",
    "builtin_function_or_method",
    "instance",
    "_Feature"
   ],
   "window_display": false
  }
 },
 "nbformat": 4,
 "nbformat_minor": 2
}
